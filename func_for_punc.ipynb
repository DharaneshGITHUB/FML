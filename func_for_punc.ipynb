{
  "nbformat": 4,
  "nbformat_minor": 0,
  "metadata": {
    "colab": {
      "provenance": [],
      "authorship_tag": "ABX9TyMP2PiBoHe3UquywS1GVAXI",
      "include_colab_link": true
    },
    "kernelspec": {
      "name": "python3",
      "display_name": "Python 3"
    },
    "language_info": {
      "name": "python"
    }
  },
  "cells": [
    {
      "cell_type": "markdown",
      "metadata": {
        "id": "view-in-github",
        "colab_type": "text"
      },
      "source": [
        "<a href=\"https://colab.research.google.com/github/DharaneshGITHUB/FML/blob/main/func_for_punc.ipynb\" target=\"_parent\"><img src=\"https://colab.research.google.com/assets/colab-badge.svg\" alt=\"Open In Colab\"/></a>"
      ]
    },
    {
      "cell_type": "code",
      "execution_count": 3,
      "metadata": {
        "colab": {
          "base_uri": "https://localhost:8080/"
        },
        "id": "kBvgPWo4MsDI",
        "outputId": "aeb24e35-ff9a-4e83-abf9-63b8765595af"
      },
      "outputs": [
        {
          "output_type": "stream",
          "name": "stdout",
          "text": [
            "original: gf:},gam.ts\n",
            "gfgamts\n"
          ]
        }
      ],
      "source": [
        "import string\n",
        "a='gf:},gam''.ts'\n",
        "x=list(string.punctuation)\n",
        "print('original:',a)\n",
        "def remove(text,list):\n",
        "  for i in list:\n",
        "    if i in text:\n",
        "      text=text.replace(i,'')\n",
        "  return text.strip()\n",
        "print(remove(a,x))\n"
      ]
    }
  ]
}