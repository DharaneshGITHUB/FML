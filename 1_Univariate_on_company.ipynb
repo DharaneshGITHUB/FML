{
  "nbformat": 4,
  "nbformat_minor": 0,
  "metadata": {
    "colab": {
      "provenance": []
    },
    "kernelspec": {
      "name": "python3",
      "display_name": "Python 3"
    },
    "language_info": {
      "name": "python"
    }
  },
  "cells": [
    {
      "cell_type": "markdown",
      "source": [
        "1.importing libraries.\n"
      ],
      "metadata": {
        "id": "vJUe7i-rWjTb"
      }
    },
    {
      "cell_type": "code",
      "execution_count": null,
      "metadata": {
        "id": "Z0AcwTtfWhZb"
      },
      "outputs": [],
      "source": [
        "import pandas as pd\n",
        "import numpy as np\n",
        "import matplotlib.pyplot as plt\n",
        "from sklearn import linear_model"
      ]
    },
    {
      "cell_type": "markdown",
      "source": [
        "2.loading company dataset\n"
      ],
      "metadata": {
        "id": "ODq4hUnSXZ87"
      }
    },
    {
      "cell_type": "code",
      "source": [
        "data=pd.read_csv(\"/content/Company_data.csv\")\n",
        "\n",
        "data.head(10)"
      ],
      "metadata": {
        "id": "sqClZWI2Xgu_"
      },
      "execution_count": null,
      "outputs": []
    },
    {
      "cell_type": "markdown",
      "source": [
        "3.priliminary investigtion on EDA"
      ],
      "metadata": {
        "id": "lR4nZIBsYwPU"
      }
    },
    {
      "cell_type": "code",
      "source": [
        "\n",
        "data.isnull().sum()"
      ],
      "metadata": {
        "id": "DsL_YxwoYYn3"
      },
      "execution_count": null,
      "outputs": []
    },
    {
      "cell_type": "code",
      "source": [
        "data.shape"
      ],
      "metadata": {
        "id": "yPG5nqNOZWH5"
      },
      "execution_count": null,
      "outputs": []
    },
    {
      "cell_type": "markdown",
      "source": [
        "3.EDA of the data_set to check whether data is ready to model or not."
      ],
      "metadata": {
        "id": "8Mv72VDBZayP"
      }
    },
    {
      "cell_type": "markdown",
      "source": [
        "to find targetting-function,we use corr()"
      ],
      "metadata": {
        "id": "kzK9TL_Haxir"
      }
    },
    {
      "cell_type": "code",
      "source": [
        "data.corr()"
      ],
      "metadata": {
        "id": "3rh90bqcZ6j1"
      },
      "execution_count": null,
      "outputs": []
    },
    {
      "cell_type": "code",
      "source": [
        "x=data.drop('Sales',axis=1).values\n",
        "y=data['Sales'].values"
      ],
      "metadata": {
        "id": "ZmXB7blubRXj"
      },
      "execution_count": null,
      "outputs": []
    },
    {
      "cell_type": "code",
      "source": [
        "y #checking whether sales are assinged to y"
      ],
      "metadata": {
        "id": "Wt7Pn3UrcHr7"
      },
      "execution_count": null,
      "outputs": []
    },
    {
      "cell_type": "markdown",
      "source": [
        "checking whether target function are dropped from data_set"
      ],
      "metadata": {
        "id": "vxbBDGfUc0Qc"
      }
    },
    {
      "cell_type": "code",
      "source": [
        "x"
      ],
      "metadata": {
        "id": "Zfo-LrhCcGhL"
      },
      "execution_count": null,
      "outputs": []
    },
    {
      "cell_type": "markdown",
      "source": [
        "seperating the tv column from data_set"
      ],
      "metadata": {
        "id": "Mvmc8lHAh8bD"
      }
    },
    {
      "cell_type": "code",
      "source": [
        "x_data=x[:,0]"
      ],
      "metadata": {
        "id": "DB-bVeG6gBI3"
      },
      "execution_count": null,
      "outputs": []
    },
    {
      "cell_type": "code",
      "source": [
        "x_data"
      ],
      "metadata": {
        "id": "40YvvE4ZhRiL"
      },
      "execution_count": null,
      "outputs": []
    },
    {
      "cell_type": "code",
      "source": [
        "x_data.shape \n"
      ],
      "metadata": {
        "id": "dN6xXp7Rhpvc"
      },
      "execution_count": null,
      "outputs": []
    },
    {
      "cell_type": "code",
      "source": [
        "y.shape"
      ],
      "metadata": {
        "id": "TybSstqSismL"
      },
      "execution_count": null,
      "outputs": []
    },
    {
      "cell_type": "code",
      "source": [],
      "metadata": {
        "id": "N8hDW0sLvAkP"
      },
      "execution_count": null,
      "outputs": []
    },
    {
      "cell_type": "markdown",
      "source": [
        "re-shaping the data for data convienience"
      ],
      "metadata": {
        "id": "C1RRawHJjL8x"
      }
    },
    {
      "cell_type": "code",
      "source": [
        "x_data=x_data.reshape(-1,1)\n",
        "y=y.reshape(-1,1)"
      ],
      "metadata": {
        "id": "N9NCgx3HiMz4"
      },
      "execution_count": null,
      "outputs": []
    },
    {
      "cell_type": "code",
      "source": [
        "x_data.shape"
      ],
      "metadata": {
        "id": "Uvn4Z6odiX_K"
      },
      "execution_count": null,
      "outputs": []
    },
    {
      "cell_type": "code",
      "source": [
        "y.shape"
      ],
      "metadata": {
        "id": "MmrFSp2xjF6T"
      },
      "execution_count": null,
      "outputs": []
    },
    {
      "cell_type": "markdown",
      "source": [
        "4.split the data into training set and testing set"
      ],
      "metadata": {
        "id": "sQ6Gp7JDNe9C"
      }
    },
    {
      "cell_type": "code",
      "source": [
        "from sklearn.model_selection import train_test_split\n",
        "x_train,x_test,y_train,y_test=train_test_split(x_data,y,test_size=0.3,random_state=0)"
      ],
      "metadata": {
        "id": "ZKoIZ48wvivY"
      },
      "execution_count": null,
      "outputs": []
    },
    {
      "cell_type": "code",
      "source": [
        "print(x_train.shape,\n",
        "y_train.shape,x_test.shape,y_test.shape)"
      ],
      "metadata": {
        "id": "NDRHAemYx5Te"
      },
      "execution_count": null,
      "outputs": []
    },
    {
      "cell_type": "markdown",
      "source": [
        "5.train the model"
      ],
      "metadata": {
        "id": "0L78f_ZtkjWP"
      }
    },
    {
      "cell_type": "code",
      "source": [
        "reg=linear_model.LinearRegression()\n",
        "reg.fit(x_train,y_train)"
      ],
      "metadata": {
        "id": "_dtkHiA5jLb_"
      },
      "execution_count": null,
      "outputs": []
    },
    {
      "cell_type": "markdown",
      "source": [
        "6.performance based on training data"
      ],
      "metadata": {
        "id": "QqohCaHfkuvk"
      }
    },
    {
      "cell_type": "code",
      "source": [
        "from sklearn.metrics import mean_absolute_error,r2_score,mean_squared_error\n",
        "y_pred=reg.predict(x_train)\n",
        "print(f'mae={mean_absolute_error(y_train,y_pred)}')\n",
        "print(f'mse={mean_squared_error(y_train,y_pred)}')\n",
        "print(f'r2={r2_score(y_train,y_pred)}')\n"
      ],
      "metadata": {
        "id": "5G69qSf2k2xi"
      },
      "execution_count": null,
      "outputs": []
    },
    {
      "cell_type": "markdown",
      "source": [
        "7.performance based on testing data"
      ],
      "metadata": {
        "id": "hXL9sZfxzHG1"
      }
    },
    {
      "cell_type": "code",
      "source": [
        "from sklearn.metrics import mean_absolute_error,r2_score,mean_squared_error\n",
        "y_pred=reg.predict(x_test)\n",
        "print(f'mae={mean_absolute_error(y_test,y_pred)}')\n",
        "print(f'mse={mean_squared_error(y_test,y_pred)}')\n",
        "print(f'r2={r2_score(y_test,y_pred)}')\n"
      ],
      "metadata": {
        "id": "R7jWUinxzIPO"
      },
      "execution_count": null,
      "outputs": []
    },
    {
      "cell_type": "markdown",
      "source": [],
      "metadata": {
        "id": "hey0IY9x04Hh"
      }
    }
  ]
}