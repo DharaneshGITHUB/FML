{
  "nbformat": 4,
  "nbformat_minor": 0,
  "metadata": {
    "colab": {
      "provenance": [],
      "authorship_tag": "ABX9TyNvtv3TALtA/4fiBx+wpe7f",
      "include_colab_link": true
    },
    "kernelspec": {
      "name": "python3",
      "display_name": "Python 3"
    },
    "language_info": {
      "name": "python"
    }
  },
  "cells": [
    {
      "cell_type": "markdown",
      "metadata": {
        "id": "view-in-github",
        "colab_type": "text"
      },
      "source": [
        "<a href=\"https://colab.research.google.com/github/DharaneshGITHUB/FML/blob/main/noise_removal.ipynb\" target=\"_parent\"><img src=\"https://colab.research.google.com/assets/colab-badge.svg\" alt=\"Open In Colab\"/></a>"
      ]
    },
    {
      "cell_type": "code",
      "source": [
        "import nltk\n",
        "nltk.download('punkt')\n",
        "nltk.download('stopwords')\n",
        "from nltk.tokenize import word_tokenize\n",
        "stop_words = set(stopwords.words('english'))\n",
        "print(stop_words)"
      ],
      "metadata": {
        "colab": {
          "base_uri": "https://localhost:8080/"
        },
        "id": "Hr5zlXkRx1T8",
        "outputId": "5f0fd050-cad8-47ed-bd53-1f1de1ce5016"
      },
      "execution_count": 15,
      "outputs": [
        {
          "output_type": "stream",
          "name": "stderr",
          "text": [
            "[nltk_data] Downloading package punkt to /root/nltk_data...\n",
            "[nltk_data]   Unzipping tokenizers/punkt.zip.\n"
          ]
        },
        {
          "output_type": "stream",
          "name": "stdout",
          "text": [
            "{'then', 'too', 'was', 'his', 'which', \"wasn't\", 'on', 'where', 'each', 'me', 'ain', 'a', 'between', 'haven', 'should', 'it', \"couldn't\", 'when', 'd', 're', 'shouldn', 'other', 'your', 'ma', 'weren', 'some', \"shouldn't\", \"don't\", \"needn't\", 'once', 'isn', 'during', 'aren', 'had', 'ourselves', \"doesn't\", 'wasn', 'am', \"should've\", 'hadn', 'being', 'who', \"hadn't\", 'if', 'any', \"hasn't\", 'now', 'has', 'same', 'and', 'not', 'the', 'so', 'against', 'll', 'because', 'further', 'to', 'doesn', 'yours', 'this', 'under', 'yourself', 'an', \"you'd\", 'they', 'theirs', 'yourselves', 'own', 'more', 'before', 'why', 'both', \"she's\", 'these', 'couldn', \"isn't\", 't', 'won', 'my', 'our', 'all', 'into', 'by', 'over', \"won't\", 'how', 'only', 'them', 'but', 'their', 'from', 'few', \"mightn't\", 'him', 'needn', 'most', 'i', 'up', 'while', 'such', 'through', 'of', 'mightn', 'than', 'whom', \"mustn't\", 'did', 've', \"it's\", 'that', 'you', 'doing', \"weren't\", 'can', 'he', 'here', 'will', 'we', 'for', 'with', 'wouldn', 'been', \"wouldn't\", 'm', 'be', 'or', 'himself', 'do', 'there', 'at', 'themselves', 'myself', \"that'll\", 'have', 'as', \"you'll\", 'o', \"aren't\", 'down', 'about', 'she', 'herself', 'no', 'nor', \"haven't\", 'her', 'is', 'after', 'don', \"didn't\", 'mustn', 'having', 's', 'shan', 'until', 'itself', 'hers', 'above', 'just', 'what', 'ours', 'in', 'below', 'were', 'again', 'didn', 'its', 'does', \"you're\", 'out', 'very', 'off', 'are', \"shan't\", \"you've\", 'hasn', 'those', 'y'}\n"
          ]
        },
        {
          "output_type": "stream",
          "name": "stderr",
          "text": [
            "[nltk_data] Downloading package stopwords to /root/nltk_data...\n",
            "[nltk_data]   Package stopwords is already up-to-date!\n"
          ]
        }
      ]
    },
    {
      "cell_type": "code",
      "source": [
        "text='''This is a sample sentence,\n",
        "                  showing off the stop words filtration.'''\n",
        "word_tokens = word_tokenize(text)\n",
        "w=[]\n",
        "for i in word_tokens:\n",
        "  if i not in stop_words:\n",
        "    w.append(i)\n",
        "print(word_tokens)\n",
        "print(w)"
      ],
      "metadata": {
        "colab": {
          "base_uri": "https://localhost:8080/"
        },
        "id": "3NrHml8gzxb0",
        "outputId": "43f2ea7a-d4f0-44ae-85b5-f3a43461b190"
      },
      "execution_count": 16,
      "outputs": [
        {
          "output_type": "stream",
          "name": "stdout",
          "text": [
            "['This', 'is', 'a', 'sample', 'sentence', ',', 'showing', 'off', 'the', 'stop', 'words', 'filtration', '.']\n",
            "['This', 'sample', 'sentence', ',', 'showing', 'stop', 'words', 'filtration', '.']\n"
          ]
        }
      ]
    }
  ]
}